{
 "cells": [
  {
   "cell_type": "code",
   "execution_count": 1,
   "id": "230193ae-087e-4178-924e-62ee591ca34c",
   "metadata": {},
   "outputs": [
    {
     "name": "stdout",
     "output_type": "stream",
     "text": [
      "Collecting accelerate\n",
      "  Downloading accelerate-1.6.0-py3-none-any.whl (354 kB)\n",
      "\u001b[2K     \u001b[90m━━━━━━━━━━━━━━━━━━━━━━━━━━━━━━━━━━━━━━━\u001b[0m \u001b[32m354.7/354.7 kB\u001b[0m \u001b[31m9.5 MB/s\u001b[0m eta \u001b[36m0:00:00\u001b[0m00:01\u001b[0m\n",
      "\u001b[?25hCollecting transformers\n",
      "  Downloading transformers-4.51.1-py3-none-any.whl (10.4 MB)\n",
      "\u001b[2K     \u001b[90m━━━━━━━━━━━━━━━━━━━━━━━━━━━━━━━━━━━━━━━\u001b[0m \u001b[32m10.4/10.4 MB\u001b[0m \u001b[31m123.3 MB/s\u001b[0m eta \u001b[36m0:00:00\u001b[0m00:01\u001b[0m00:01\u001b[0m\n",
      "\u001b[?25hCollecting trl\n",
      "  Downloading trl-0.16.1-py3-none-any.whl (336 kB)\n",
      "\u001b[2K     \u001b[90m━━━━━━━━━━━━━━━━━━━━━━━━━━━━━━━━━━━━━━\u001b[0m \u001b[32m336.4/336.4 kB\u001b[0m \u001b[31m17.2 MB/s\u001b[0m eta \u001b[36m0:00:00\u001b[0m\n",
      "\u001b[?25hCollecting datasets\n",
      "  Downloading datasets-3.5.0-py3-none-any.whl (491 kB)\n",
      "\u001b[2K     \u001b[90m━━━━━━━━━━━━━━━━━━━━━━━━━━━━━━━━━━━━━━━\u001b[0m \u001b[32m491.2/491.2 kB\u001b[0m \u001b[31m7.2 MB/s\u001b[0m eta \u001b[36m0:00:00\u001b[0m00:01\u001b[0m\n",
      "\u001b[?25hCollecting bitsandbytes\n",
      "  Downloading bitsandbytes-0.45.5-py3-none-manylinux_2_24_x86_64.whl (76.1 MB)\n",
      "\u001b[2K     \u001b[90m━━━━━━━━━━━━━━━━━━━━━━━━━━━━━━━━━━━━━━━━\u001b[0m \u001b[32m76.1/76.1 MB\u001b[0m \u001b[31m35.8 MB/s\u001b[0m eta \u001b[36m0:00:00\u001b[0m00:01\u001b[0m00:01\u001b[0m\n",
      "\u001b[?25hCollecting peft\n",
      "  Downloading peft-0.15.1-py3-none-any.whl (411 kB)\n",
      "\u001b[2K     \u001b[90m━━━━━━━━━━━━━━━━━━━━━━━━━━━━━━━━━━━━━━━\u001b[0m \u001b[32m411.0/411.0 kB\u001b[0m \u001b[31m3.2 MB/s\u001b[0m eta \u001b[36m0:00:00\u001b[0m00:01\u001b[0m\n",
      "\u001b[?25hCollecting tensorboard\n",
      "  Downloading tensorboard-2.19.0-py3-none-any.whl (5.5 MB)\n",
      "\u001b[2K     \u001b[90m━━━━━━━━━━━━━━━━━━━━━━━━━━━━━━━━━━━━━━━━\u001b[0m \u001b[32m5.5/5.5 MB\u001b[0m \u001b[31m104.1 MB/s\u001b[0m eta \u001b[36m0:00:00\u001b[0m00:01\u001b[0m\n",
      "\u001b[?25hCollecting safetensors>=0.4.3\n",
      "  Downloading safetensors-0.5.3-cp38-abi3-manylinux_2_17_x86_64.manylinux2014_x86_64.whl (471 kB)\n",
      "\u001b[2K     \u001b[90m━━━━━━━━━━━━━━━━━━━━━━━━━━━━━━━━━━━━━━\u001b[0m \u001b[32m471.6/471.6 kB\u001b[0m \u001b[31m53.9 MB/s\u001b[0m eta \u001b[36m0:00:00\u001b[0m\n",
      "\u001b[?25hRequirement already satisfied: pyyaml in /scratch/user/joshua9/my_envs/my_notebook-python-3.10.8/lib/python3.10/site-packages (from accelerate->-r requirements.txt (line 1)) (6.0.2)\n",
      "Requirement already satisfied: packaging>=20.0 in /scratch/user/joshua9/my_envs/my_notebook-python-3.10.8/lib/python3.10/site-packages (from accelerate->-r requirements.txt (line 1)) (24.2)\n",
      "Requirement already satisfied: psutil in /sw/eb/sw/Python/3.10.8-GCCcore-12.2.0/lib/python3.10/site-packages (from accelerate->-r requirements.txt (line 1)) (5.9.4)\n",
      "Requirement already satisfied: numpy<3.0.0,>=1.17 in /scratch/user/joshua9/my_envs/my_notebook-python-3.10.8/lib/python3.10/site-packages (from accelerate->-r requirements.txt (line 1)) (2.0.2)\n",
      "Requirement already satisfied: torch>=2.0.0 in /scratch/user/joshua9/my_envs/my_notebook-python-3.10.8/lib/python3.10/site-packages (from accelerate->-r requirements.txt (line 1)) (2.6.0+cu126)\n",
      "Collecting huggingface-hub>=0.21.0\n",
      "  Downloading huggingface_hub-0.30.2-py3-none-any.whl (481 kB)\n",
      "\u001b[2K     \u001b[90m━━━━━━━━━━━━━━━━━━━━━━━━━━━━━━━━━━━━━━\u001b[0m \u001b[32m481.4/481.4 kB\u001b[0m \u001b[31m45.0 MB/s\u001b[0m eta \u001b[36m0:00:00\u001b[0m\n",
      "\u001b[?25hRequirement already satisfied: requests in /scratch/user/joshua9/my_envs/my_notebook-python-3.10.8/lib/python3.10/site-packages (from transformers->-r requirements.txt (line 2)) (2.32.3)\n",
      "Requirement already satisfied: filelock in /sw/eb/sw/Python/3.10.8-GCCcore-12.2.0/lib/python3.10/site-packages (from transformers->-r requirements.txt (line 2)) (3.8.0)\n",
      "Collecting tokenizers<0.22,>=0.21\n",
      "  Downloading tokenizers-0.21.1-cp39-abi3-manylinux_2_17_x86_64.manylinux2014_x86_64.whl (3.0 MB)\n",
      "\u001b[2K     \u001b[90m━━━━━━━━━━━━━━━━━━━━━━━━━━━━━━━━━━━━━━━━\u001b[0m \u001b[32m3.0/3.0 MB\u001b[0m \u001b[31m67.6 MB/s\u001b[0m eta \u001b[36m0:00:00\u001b[0m:00:01\u001b[0m\n",
      "\u001b[?25hRequirement already satisfied: tqdm>=4.27 in /scratch/user/joshua9/my_envs/my_notebook-python-3.10.8/lib/python3.10/site-packages (from transformers->-r requirements.txt (line 2)) (4.67.1)\n",
      "Requirement already satisfied: regex!=2019.12.17 in /sw/eb/sw/Python/3.10.8-GCCcore-12.2.0/lib/python3.10/site-packages (from transformers->-r requirements.txt (line 2)) (2022.10.31)\n",
      "Requirement already satisfied: rich in /scratch/user/joshua9/my_envs/my_notebook-python-3.10.8/lib/python3.10/site-packages (from trl->-r requirements.txt (line 3)) (14.0.0)\n",
      "Collecting multiprocess<0.70.17\n",
      "  Downloading multiprocess-0.70.16-py310-none-any.whl (134 kB)\n",
      "\u001b[2K     \u001b[90m━━━━━━━━━━━━━━━━━━━━━━━━━━━━━━━━━━━━━━━\u001b[0m \u001b[32m134.8/134.8 kB\u001b[0m \u001b[31m4.0 MB/s\u001b[0m eta \u001b[36m0:00:00\u001b[0m\n",
      "\u001b[?25hCollecting fsspec[http]<=2024.12.0,>=2023.1.0\n",
      "  Downloading fsspec-2024.12.0-py3-none-any.whl (183 kB)\n",
      "\u001b[2K     \u001b[90m━━━━━━━━━━━━━━━━━━━━━━━━━━━━━━━━━━━━━━\u001b[0m \u001b[32m183.9/183.9 kB\u001b[0m \u001b[31m13.7 MB/s\u001b[0m eta \u001b[36m0:00:00\u001b[0m\n",
      "\u001b[?25hRequirement already satisfied: pandas in /scratch/user/joshua9/my_envs/my_notebook-python-3.10.8/lib/python3.10/site-packages (from datasets->-r requirements.txt (line 4)) (2.2.3)\n",
      "Collecting dill<0.3.9,>=0.3.0\n",
      "  Downloading dill-0.3.8-py3-none-any.whl (116 kB)\n",
      "\u001b[2K     \u001b[90m━━━━━━━━━━━━━━━━━━━━━━━━━━━━━━━━━━━━━━━\u001b[0m \u001b[32m116.3/116.3 kB\u001b[0m \u001b[31m6.6 MB/s\u001b[0m eta \u001b[36m0:00:00\u001b[0m\n",
      "\u001b[?25hCollecting xxhash\n",
      "  Downloading xxhash-3.5.0-cp310-cp310-manylinux_2_17_x86_64.manylinux2014_x86_64.whl (194 kB)\n",
      "\u001b[2K     \u001b[90m━━━━━━━━━━━━━━━━━━━━━━━━━━━━━━━━━━━━━━\u001b[0m \u001b[32m194.1/194.1 kB\u001b[0m \u001b[31m13.3 MB/s\u001b[0m eta \u001b[36m0:00:00\u001b[0m\n",
      "\u001b[?25hCollecting aiohttp\n",
      "  Downloading aiohttp-3.11.16-cp310-cp310-manylinux_2_17_x86_64.manylinux2014_x86_64.whl (1.6 MB)\n",
      "\u001b[2K     \u001b[90m━━━━━━━━━━━━━━━━━━━━━━━━━━━━━━━━━━━━━━━━\u001b[0m \u001b[32m1.6/1.6 MB\u001b[0m \u001b[31m51.8 MB/s\u001b[0m eta \u001b[36m0:00:00\u001b[0m\n",
      "\u001b[?25hRequirement already satisfied: pyarrow>=15.0.0 in /scratch/user/joshua9/my_envs/my_notebook-python-3.10.8/lib/python3.10/site-packages (from datasets->-r requirements.txt (line 4)) (19.0.1)\n",
      "Requirement already satisfied: setuptools>=41.0.0 in /scratch/user/joshua9/my_envs/my_notebook-python-3.10.8/lib/python3.10/site-packages (from tensorboard->-r requirements.txt (line 7)) (63.2.0)\n",
      "Collecting grpcio>=1.48.2\n",
      "  Downloading grpcio-1.71.0-cp310-cp310-manylinux_2_17_x86_64.manylinux2014_x86_64.whl (5.9 MB)\n",
      "\u001b[2K     \u001b[90m━━━━━━━━━━━━━━━━━━━━━━━━━━━━━━━━━━━━━━━━\u001b[0m \u001b[32m5.9/5.9 MB\u001b[0m \u001b[31m42.2 MB/s\u001b[0m eta \u001b[36m0:00:00\u001b[0m:00:01\u001b[0m\n",
      "\u001b[?25hRequirement already satisfied: six>1.9 in /sw/eb/sw/Python/3.10.8-GCCcore-12.2.0/lib/python3.10/site-packages (from tensorboard->-r requirements.txt (line 7)) (1.16.0)\n",
      "Collecting tensorboard-data-server<0.8.0,>=0.7.0\n",
      "  Downloading tensorboard_data_server-0.7.2-py3-none-any.whl (2.4 kB)\n",
      "Collecting werkzeug>=1.0.1\n",
      "  Downloading werkzeug-3.1.3-py3-none-any.whl (224 kB)\n",
      "\u001b[2K     \u001b[90m━━━━━━━━━━━━━━━━━━━━━━━━━━━━━━━━━━━━━━\u001b[0m \u001b[32m224.5/224.5 kB\u001b[0m \u001b[31m22.9 MB/s\u001b[0m eta \u001b[36m0:00:00\u001b[0m\n",
      "\u001b[?25hCollecting absl-py>=0.4\n",
      "  Downloading absl_py-2.2.2-py3-none-any.whl (135 kB)\n",
      "\u001b[2K     \u001b[90m━━━━━━━━━━━━━━━━━━━━━━━━━━━━━━━━━━━━━\u001b[0m \u001b[32m135.6/135.6 kB\u001b[0m \u001b[31m872.7 kB/s\u001b[0m eta \u001b[36m0:00:00\u001b[0m00:01\u001b[0m\n",
      "\u001b[?25hCollecting markdown>=2.6.8\n",
      "  Downloading Markdown-3.7-py3-none-any.whl (106 kB)\n",
      "\u001b[2K     \u001b[90m━━━━━━━━━━━━━━━━━━━━━━━━━━━━━━━━━━━━━━━\u001b[0m \u001b[32m106.3/106.3 kB\u001b[0m \u001b[31m4.0 MB/s\u001b[0m eta \u001b[36m0:00:00\u001b[0m\n",
      "\u001b[?25hCollecting protobuf!=4.24.0,>=3.19.6\n",
      "  Downloading protobuf-6.30.2-cp39-abi3-manylinux2014_x86_64.whl (316 kB)\n",
      "\u001b[2K     \u001b[90m━━━━━━━━━━━━━━━━━━━━━━━━━━━━━━━━━━━━━━\u001b[0m \u001b[32m316.2/316.2 kB\u001b[0m \u001b[31m11.7 MB/s\u001b[0m eta \u001b[36m0:00:00\u001b[0m\n",
      "\u001b[?25hCollecting aiohappyeyeballs>=2.3.0\n",
      "  Downloading aiohappyeyeballs-2.6.1-py3-none-any.whl (15 kB)\n",
      "Collecting async-timeout<6.0,>=4.0\n",
      "  Downloading async_timeout-5.0.1-py3-none-any.whl (6.2 kB)\n",
      "Collecting aiosignal>=1.1.2\n",
      "  Downloading aiosignal-1.3.2-py2.py3-none-any.whl (7.6 kB)\n",
      "Collecting frozenlist>=1.1.1\n",
      "  Downloading frozenlist-1.5.0-cp310-cp310-manylinux_2_5_x86_64.manylinux1_x86_64.manylinux_2_17_x86_64.manylinux2014_x86_64.whl (241 kB)\n",
      "\u001b[2K     \u001b[90m━━━━━━━━━━━━━━━━━━━━━━━━━━━━━━━━━━━━━━\u001b[0m \u001b[32m241.9/241.9 kB\u001b[0m \u001b[31m13.1 MB/s\u001b[0m eta \u001b[36m0:00:00\u001b[0m\n",
      "\u001b[?25hCollecting multidict<7.0,>=4.5\n",
      "  Downloading multidict-6.4.2-cp310-cp310-manylinux_2_17_x86_64.manylinux2014_x86_64.whl (219 kB)\n",
      "\u001b[2K     \u001b[90m━━━━━━━━━━━━━━━━━━━━━━━━━━━━━━━━━━━━━━\u001b[0m \u001b[32m219.8/219.8 kB\u001b[0m \u001b[31m11.7 MB/s\u001b[0m eta \u001b[36m0:00:00\u001b[0m\n",
      "\u001b[?25hRequirement already satisfied: attrs>=17.3.0 in /scratch/user/joshua9/my_envs/my_notebook-python-3.10.8/lib/python3.10/site-packages (from aiohttp->datasets->-r requirements.txt (line 4)) (25.3.0)\n",
      "Collecting propcache>=0.2.0\n",
      "  Downloading propcache-0.3.1-cp310-cp310-manylinux_2_17_x86_64.manylinux2014_x86_64.whl (206 kB)\n",
      "\u001b[2K     \u001b[90m━━━━━━━━━━━━━━━━━━━━━━━━━━━━━━━━━━━━━━━\u001b[0m \u001b[32m206.6/206.6 kB\u001b[0m \u001b[31m3.2 MB/s\u001b[0m eta \u001b[36m0:00:00\u001b[0m00:01\u001b[0m\n",
      "\u001b[?25hCollecting yarl<2.0,>=1.17.0\n",
      "  Downloading yarl-1.19.0-cp310-cp310-manylinux_2_17_x86_64.manylinux2014_x86_64.whl (334 kB)\n",
      "\u001b[2K     \u001b[90m━━━━━━━━━━━━━━━━━━━━━━━━━━━━━━━━━━━━━━\u001b[0m \u001b[32m334.0/334.0 kB\u001b[0m \u001b[31m26.0 MB/s\u001b[0m eta \u001b[36m0:00:00\u001b[0m\n",
      "\u001b[?25hRequirement already satisfied: typing-extensions>=3.7.4.3 in /scratch/user/joshua9/my_envs/my_notebook-python-3.10.8/lib/python3.10/site-packages (from huggingface-hub>=0.21.0->accelerate->-r requirements.txt (line 1)) (4.12.2)\n",
      "Requirement already satisfied: idna<4,>=2.5 in /sw/eb/sw/Python/3.10.8-GCCcore-12.2.0/lib/python3.10/site-packages (from requests->transformers->-r requirements.txt (line 2)) (3.4)\n",
      "Requirement already satisfied: certifi>=2017.4.17 in /sw/eb/sw/Python/3.10.8-GCCcore-12.2.0/lib/python3.10/site-packages (from requests->transformers->-r requirements.txt (line 2)) (2022.9.24)\n",
      "Requirement already satisfied: urllib3<3,>=1.21.1 in /sw/eb/sw/Python/3.10.8-GCCcore-12.2.0/lib/python3.10/site-packages (from requests->transformers->-r requirements.txt (line 2)) (1.26.12)\n",
      "Requirement already satisfied: charset-normalizer<4,>=2 in /sw/eb/sw/Python/3.10.8-GCCcore-12.2.0/lib/python3.10/site-packages (from requests->transformers->-r requirements.txt (line 2)) (2.1.1)\n",
      "Requirement already satisfied: nvidia-cuda-nvrtc-cu12==12.6.77 in /scratch/user/joshua9/my_envs/my_notebook-python-3.10.8/lib/python3.10/site-packages (from torch>=2.0.0->accelerate->-r requirements.txt (line 1)) (12.6.77)\n",
      "Requirement already satisfied: nvidia-nvjitlink-cu12==12.6.85 in /scratch/user/joshua9/my_envs/my_notebook-python-3.10.8/lib/python3.10/site-packages (from torch>=2.0.0->accelerate->-r requirements.txt (line 1)) (12.6.85)\n",
      "Requirement already satisfied: nvidia-cusolver-cu12==11.7.1.2 in /scratch/user/joshua9/my_envs/my_notebook-python-3.10.8/lib/python3.10/site-packages (from torch>=2.0.0->accelerate->-r requirements.txt (line 1)) (11.7.1.2)\n",
      "Requirement already satisfied: nvidia-cuda-cupti-cu12==12.6.80 in /scratch/user/joshua9/my_envs/my_notebook-python-3.10.8/lib/python3.10/site-packages (from torch>=2.0.0->accelerate->-r requirements.txt (line 1)) (12.6.80)\n",
      "Requirement already satisfied: nvidia-cufft-cu12==11.3.0.4 in /scratch/user/joshua9/my_envs/my_notebook-python-3.10.8/lib/python3.10/site-packages (from torch>=2.0.0->accelerate->-r requirements.txt (line 1)) (11.3.0.4)\n",
      "Requirement already satisfied: nvidia-cuda-runtime-cu12==12.6.77 in /scratch/user/joshua9/my_envs/my_notebook-python-3.10.8/lib/python3.10/site-packages (from torch>=2.0.0->accelerate->-r requirements.txt (line 1)) (12.6.77)\n",
      "Requirement already satisfied: sympy==1.13.1 in /scratch/user/joshua9/my_envs/my_notebook-python-3.10.8/lib/python3.10/site-packages (from torch>=2.0.0->accelerate->-r requirements.txt (line 1)) (1.13.1)\n",
      "Requirement already satisfied: nvidia-curand-cu12==10.3.7.77 in /scratch/user/joshua9/my_envs/my_notebook-python-3.10.8/lib/python3.10/site-packages (from torch>=2.0.0->accelerate->-r requirements.txt (line 1)) (10.3.7.77)\n",
      "Requirement already satisfied: nvidia-cublas-cu12==12.6.4.1 in /scratch/user/joshua9/my_envs/my_notebook-python-3.10.8/lib/python3.10/site-packages (from torch>=2.0.0->accelerate->-r requirements.txt (line 1)) (12.6.4.1)\n",
      "Requirement already satisfied: jinja2 in /sw/eb/sw/Python/3.10.8-GCCcore-12.2.0/lib/python3.10/site-packages (from torch>=2.0.0->accelerate->-r requirements.txt (line 1)) (3.1.2)\n",
      "Requirement already satisfied: networkx in /scratch/user/joshua9/my_envs/my_notebook-python-3.10.8/lib/python3.10/site-packages (from torch>=2.0.0->accelerate->-r requirements.txt (line 1)) (3.3)\n",
      "Requirement already satisfied: nvidia-cusparse-cu12==12.5.4.2 in /scratch/user/joshua9/my_envs/my_notebook-python-3.10.8/lib/python3.10/site-packages (from torch>=2.0.0->accelerate->-r requirements.txt (line 1)) (12.5.4.2)\n",
      "Requirement already satisfied: nvidia-nccl-cu12==2.21.5 in /scratch/user/joshua9/my_envs/my_notebook-python-3.10.8/lib/python3.10/site-packages (from torch>=2.0.0->accelerate->-r requirements.txt (line 1)) (2.21.5)\n",
      "Requirement already satisfied: nvidia-nvtx-cu12==12.6.77 in /scratch/user/joshua9/my_envs/my_notebook-python-3.10.8/lib/python3.10/site-packages (from torch>=2.0.0->accelerate->-r requirements.txt (line 1)) (12.6.77)\n",
      "Requirement already satisfied: nvidia-cusparselt-cu12==0.6.3 in /scratch/user/joshua9/my_envs/my_notebook-python-3.10.8/lib/python3.10/site-packages (from torch>=2.0.0->accelerate->-r requirements.txt (line 1)) (0.6.3)\n",
      "Requirement already satisfied: triton==3.2.0 in /scratch/user/joshua9/my_envs/my_notebook-python-3.10.8/lib/python3.10/site-packages (from torch>=2.0.0->accelerate->-r requirements.txt (line 1)) (3.2.0)\n",
      "Requirement already satisfied: nvidia-cudnn-cu12==9.5.1.17 in /scratch/user/joshua9/my_envs/my_notebook-python-3.10.8/lib/python3.10/site-packages (from torch>=2.0.0->accelerate->-r requirements.txt (line 1)) (9.5.1.17)\n",
      "Requirement already satisfied: mpmath<1.4,>=1.1.0 in /scratch/user/joshua9/my_envs/my_notebook-python-3.10.8/lib/python3.10/site-packages (from sympy==1.13.1->torch>=2.0.0->accelerate->-r requirements.txt (line 1)) (1.3.0)\n",
      "Requirement already satisfied: MarkupSafe>=2.1.1 in /sw/eb/sw/Python/3.10.8-GCCcore-12.2.0/lib/python3.10/site-packages (from werkzeug>=1.0.1->tensorboard->-r requirements.txt (line 7)) (2.1.1)\n",
      "Requirement already satisfied: python-dateutil>=2.8.2 in /sw/eb/sw/Python/3.10.8-GCCcore-12.2.0/lib/python3.10/site-packages (from pandas->datasets->-r requirements.txt (line 4)) (2.8.2)\n",
      "Requirement already satisfied: pytz>=2020.1 in /sw/eb/sw/Python/3.10.8-GCCcore-12.2.0/lib/python3.10/site-packages (from pandas->datasets->-r requirements.txt (line 4)) (2022.6)\n",
      "Requirement already satisfied: tzdata>=2022.7 in /scratch/user/joshua9/my_envs/my_notebook-python-3.10.8/lib/python3.10/site-packages (from pandas->datasets->-r requirements.txt (line 4)) (2025.2)\n",
      "Requirement already satisfied: pygments<3.0.0,>=2.13.0 in /sw/eb/sw/Python/3.10.8-GCCcore-12.2.0/lib/python3.10/site-packages (from rich->trl->-r requirements.txt (line 3)) (2.13.0)\n",
      "Requirement already satisfied: markdown-it-py>=2.2.0 in /scratch/user/joshua9/my_envs/my_notebook-python-3.10.8/lib/python3.10/site-packages (from rich->trl->-r requirements.txt (line 3)) (3.0.0)\n",
      "Requirement already satisfied: mdurl~=0.1 in /scratch/user/joshua9/my_envs/my_notebook-python-3.10.8/lib/python3.10/site-packages (from markdown-it-py>=2.2.0->rich->trl->-r requirements.txt (line 3)) (0.1.2)\n",
      "Installing collected packages: xxhash, werkzeug, tensorboard-data-server, safetensors, protobuf, propcache, multidict, markdown, grpcio, fsspec, frozenlist, dill, async-timeout, aiohappyeyeballs, absl-py, yarl, tensorboard, multiprocess, huggingface-hub, aiosignal, tokenizers, aiohttp, transformers, bitsandbytes, accelerate, peft, datasets, trl\n",
      "  Attempting uninstall: fsspec\n",
      "    Found existing installation: fsspec 2022.11.0\n",
      "    Not uninstalling fsspec at /sw/eb/sw/Python/3.10.8-GCCcore-12.2.0/lib/python3.10/site-packages, outside environment /scratch/user/joshua9/my_envs/my_notebook-python-3.10.8\n",
      "    Can't uninstall 'fsspec'. No files were found to uninstall.\n",
      "Successfully installed absl-py-2.2.2 accelerate-1.6.0 aiohappyeyeballs-2.6.1 aiohttp-3.11.16 aiosignal-1.3.2 async-timeout-5.0.1 bitsandbytes-0.45.5 datasets-3.5.0 dill-0.3.8 frozenlist-1.5.0 fsspec-2024.12.0 grpcio-1.71.0 huggingface-hub-0.30.2 markdown-3.7 multidict-6.4.2 multiprocess-0.70.16 peft-0.15.1 propcache-0.3.1 protobuf-6.30.2 safetensors-0.5.3 tensorboard-2.19.0 tensorboard-data-server-0.7.2 tokenizers-0.21.1 transformers-4.51.1 trl-0.16.1 werkzeug-3.1.3 xxhash-3.5.0 yarl-1.19.0\n",
      "\n",
      "\u001b[1m[\u001b[0m\u001b[34;49mnotice\u001b[0m\u001b[1;39;49m]\u001b[0m\u001b[39;49m A new release of pip available: \u001b[0m\u001b[31;49m22.2.2\u001b[0m\u001b[39;49m -> \u001b[0m\u001b[32;49m25.0.1\u001b[0m\n",
      "\u001b[1m[\u001b[0m\u001b[34;49mnotice\u001b[0m\u001b[1;39;49m]\u001b[0m\u001b[39;49m To update, run: \u001b[0m\u001b[32;49mpip install --upgrade pip\u001b[0m\n"
     ]
    }
   ],
   "source": [
    "!pip install -r requirements.txt"
   ]
  },
  {
   "cell_type": "code",
   "execution_count": 1,
   "id": "4da01faf-c157-496a-9840-8606fde2c468",
   "metadata": {},
   "outputs": [
    {
     "name": "stdout",
     "output_type": "stream",
     "text": [
      "hi\n"
     ]
    }
   ],
   "source": [
    "print(\"hi\")"
   ]
  },
  {
   "cell_type": "code",
   "execution_count": 2,
   "id": "53d0ac79-f17e-4e5b-bd12-56e8b4d0da74",
   "metadata": {},
   "outputs": [
    {
     "name": "stderr",
     "output_type": "stream",
     "text": [
      "/scratch/user/joshua9/.conda/envs/my_notebook3.8/lib/python3.8/site-packages/tqdm/auto.py:21: TqdmWarning: IProgress not found. Please update jupyter and ipywidgets. See https://ipywidgets.readthedocs.io/en/stable/user_install.html\n",
      "  from .autonotebook import tqdm as notebook_tqdm\n"
     ]
    }
   ],
   "source": [
    "from transformers import (\n",
    "    AutoModelForCausalLM, \n",
    "    logging, \n",
    "    pipeline,\n",
    "    AutoTokenizer\n",
    ")"
   ]
  },
  {
   "cell_type": "code",
   "execution_count": 3,
   "id": "cae093e2-62cb-4d56-a1f6-f7e7f33993f2",
   "metadata": {},
   "outputs": [],
   "source": [
    "model = AutoModelForCausalLM.from_pretrained('outputs/qwen_05b_code/best_model/')\n",
    "tokenizer = AutoTokenizer.from_pretrained('outputs/qwen_05b_code/best_model/')"
   ]
  },
  {
   "cell_type": "code",
   "execution_count": 4,
   "id": "6f8e30cc-fe7e-4253-93e0-49b3544ede66",
   "metadata": {},
   "outputs": [],
   "source": [
    "pipe = pipeline(\n",
    "    task='text-generation', \n",
    "    model=model, \n",
    "    tokenizer=tokenizer, \n",
    "    max_length=512,\n",
    "    device='cuda',\n",
    "    eos_token_id=tokenizer.eos_token_id\n",
    ")"
   ]
  },
  {
   "cell_type": "code",
   "execution_count": 5,
   "id": "3a049248-b254-48ec-a07c-e0be51eea911",
   "metadata": {},
   "outputs": [],
   "source": [
    "logging.set_verbosity(logging.CRITICAL)"
   ]
  },
  {
   "cell_type": "code",
   "execution_count": 6,
   "id": "fe3c887a-4902-4d69-a9c2-7d3329814fbe",
   "metadata": {},
   "outputs": [
    {
     "name": "stdout",
     "output_type": "stream",
     "text": [
      "### Instruction:\n",
      "Write Python code for merge sort.\n",
      "\n",
      "### Input:\n",
      "\n",
      "\n",
      "### Response:\n",
      "def merge_sort(arr): \n",
      "    if len(arr) > 1: \n",
      "        mid = len(arr)//2 \n",
      "        left = arr[:mid] \n",
      "        right = arr[mid:] \n",
      "  \n",
      "        merge_sort(left) \n",
      "        merge_sort(right) \n",
      "  \n",
      "        i = j = k = 0\n",
      "        while i < len(left) and j < len(right): \n",
      "            if left[i] < right[j]: \n",
      "                arr[k] = left[i] \n",
      "                i+=1\n",
      "            else: \n",
      "                arr[k] = right[j] \n",
      "                j+=1\n",
      "            k+=1\n",
      "        while i < len(left): \n",
      "            arr[k] = left[i] \n",
      "            i+=1\n",
      "            k+=1\n",
      "        while j < len(right): \n",
      "            arr[k] = right[j] \n",
      "            j+=1\n",
      "            k+=1\n"
     ]
    }
   ],
   "source": [
    "prompt = \"\"\"### Instruction:\n",
    "Write Python code for merge sort.\n",
    "\n",
    "### Input:\n",
    "\n",
    "\n",
    "### Response:\n",
    "\"\"\"\n",
    "\n",
    "result = pipe(\n",
    "    prompt\n",
    ")\n",
    "print(result[0]['generated_text'])"
   ]
  },
  {
   "cell_type": "code",
   "execution_count": 8,
   "id": "a247f8ae-884b-43e7-965b-6a07dc83660a",
   "metadata": {},
   "outputs": [
    {
     "name": "stdout",
     "output_type": "stream",
     "text": [
      "### Instruction:\n",
      "How do you filter data in an SQL query using custom conditions? Give an example.\n",
      "\n",
      "### Input:\n",
      "\n",
      "\n",
      "### Response:\n",
      "SELECT * FROM table_name WHERE condition1 = 'value1' AND condition2 = 'value2';\n"
     ]
    }
   ],
   "source": [
    "prompt = \"\"\"### Instruction:\n",
    "How do you filter data in an SQL query using custom conditions? Give an example.\n",
    "\n",
    "### Input:\n",
    "\n",
    "\n",
    "### Response:\n",
    "\"\"\"\n",
    "\n",
    "result = pipe(\n",
    "    prompt\n",
    ")\n",
    "print(result[0]['generated_text'])"
   ]
  },
  {
   "cell_type": "code",
   "execution_count": 9,
   "id": "9af2dc1d-51ff-4bf3-a396-ce82359eb787",
   "metadata": {},
   "outputs": [
    {
     "name": "stdout",
     "output_type": "stream",
     "text": [
      "### Instruction:\n",
      "Write an SQL query to find the students who have a GPA of exactly 5 and have the name 'Goerge Russel'. Check for both first name and last name of 'George Russel'.\n",
      "\n",
      "### Input:\n",
      "\n",
      "\n",
      "### Response:\n",
      "SELECT * FROM students WHERE first_name = 'George' AND last_name = 'Russel' AND gpa = 5;\n"
     ]
    }
   ],
   "source": [
    "prompt = \"\"\"### Instruction:\n",
    "Write an SQL query to find the students who have a GPA of exactly 5 and have the name 'Goerge Russel'. Check for both first name and last name of 'George Russel'.\n",
    "\n",
    "### Input:\n",
    "\n",
    "\n",
    "### Response:\n",
    "\"\"\"\n",
    "\n",
    "result = pipe(\n",
    "    prompt\n",
    ")\n",
    "print(result[0]['generated_text'])"
   ]
  },
  {
   "cell_type": "code",
   "execution_count": 17,
   "id": "7ce53693-a1e7-417b-b78e-b7464f3cee5d",
   "metadata": {},
   "outputs": [
    {
     "name": "stdout",
     "output_type": "stream",
     "text": [
      "### Instruction:\n",
      "give me hello world code in python\n",
      "### Input:\n",
      "\n",
      "\n",
      "### Response:\n",
      "\"\"\"\n",
      "#include <stdio.h>\n",
      " \n",
      "int main() \n",
      "{\n",
      "    printf(\"Hello World!\");\n",
      "    return 0;\n",
      "}\n"
     ]
    }
   ],
   "source": [
    "prompt = \"\"\"### Instruction:\n",
    "give me hello world code in python\n",
    "### Input:\n",
    "\n",
    "\n",
    "### Response:\n",
    "\"\"\"\n",
    "\n",
    "result = pipe(\n",
    "    prompt\n",
    ")\n",
    "print(result[0]['generated_text'])"
   ]
  },
  {
   "cell_type": "code",
   "execution_count": null,
   "id": "8d01d645-8f49-4221-945f-d7381005e90f",
   "metadata": {},
   "outputs": [],
   "source": []
  }
 ],
 "metadata": {
  "kernelspec": {
   "display_name": "Python 3 (ipykernel)",
   "language": "python",
   "name": "python3"
  },
  "language_info": {
   "codemirror_mode": {
    "name": "ipython",
    "version": 3
   },
   "file_extension": ".py",
   "mimetype": "text/x-python",
   "name": "python",
   "nbconvert_exporter": "python",
   "pygments_lexer": "ipython3",
   "version": "3.8.20"
  }
 },
 "nbformat": 4,
 "nbformat_minor": 5
}
