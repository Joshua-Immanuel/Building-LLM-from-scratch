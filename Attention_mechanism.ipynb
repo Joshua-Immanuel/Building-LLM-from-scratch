{
  "nbformat": 4,
  "nbformat_minor": 0,
  "metadata": {
    "colab": {
      "provenance": []
    },
    "kernelspec": {
      "name": "python3",
      "display_name": "Python 3"
    },
    "language_info": {
      "name": "python"
    }
  },
  "cells": [
    {
      "cell_type": "markdown",
      "source": [
        "Simplified self attention"
      ],
      "metadata": {
        "id": "R6qfr1alsjnR"
      }
    },
    {
      "cell_type": "code",
      "execution_count": 1,
      "metadata": {
        "id": "ciPmQXZ-asde"
      },
      "outputs": [],
      "source": [
        "import torch"
      ]
    },
    {
      "cell_type": "code",
      "source": [
        "inputs = torch.tensor([\n",
        "    [0.43,0.15,0.89],\n",
        "    [0.55,0.87,0.66],\n",
        "    [0.57,0.85,0.64],\n",
        "    [0.22,0.58,0.33],\n",
        "    [0.77,0.25,0.10],\n",
        "    [0.05,0.80,0.55]\n",
        "])"
      ],
      "metadata": {
        "id": "a-FMSyNgaxeI"
      },
      "execution_count": 2,
      "outputs": []
    },
    {
      "cell_type": "code",
      "source": [
        "query = torch.tensor([0.55,0.87,0.66])\n",
        "inputs.shape[0]"
      ],
      "metadata": {
        "colab": {
          "base_uri": "https://localhost:8080/"
        },
        "id": "A9rkEzO5v9qI",
        "outputId": "1e4924c4-f830-470b-d80f-3370a585b218"
      },
      "execution_count": 3,
      "outputs": [
        {
          "output_type": "execute_result",
          "data": {
            "text/plain": [
              "6"
            ]
          },
          "metadata": {},
          "execution_count": 3
        }
      ]
    },
    {
      "cell_type": "code",
      "source": [
        "attention_scores= torch.zeros(inputs.shape[0])\n",
        "for i,x_i in enumerate(inputs):\n",
        "  attention_scores[i]=torch.dot(x_i,query)\n",
        "attention_scores"
      ],
      "metadata": {
        "colab": {
          "base_uri": "https://localhost:8080/"
        },
        "id": "T0XAIcGNwY-D",
        "outputId": "9b54c810-cd84-45ba-8591-2da6212e84ef"
      },
      "execution_count": 4,
      "outputs": [
        {
          "output_type": "execute_result",
          "data": {
            "text/plain": [
              "tensor([0.9544, 1.4950, 1.4754, 0.8434, 0.7070, 1.0865])"
            ]
          },
          "metadata": {},
          "execution_count": 4
        }
      ]
    },
    {
      "cell_type": "markdown",
      "source": [
        "why normalization??\n",
        "\n",
        "sum to 1, Interpretable as probabilities, maintaining training stability in the LLM.\n"
      ],
      "metadata": {
        "id": "kYEPqAehy_bh"
      }
    },
    {
      "cell_type": "code",
      "source": [
        "def normal_normalization(x):\n",
        "  return x/torch.sum(x,dim=-1)\n",
        "normalized1 = normal_normalization(attention_scores)\n",
        "print(normalized1)\n",
        "print(normalized1.sum(dim=-1))"
      ],
      "metadata": {
        "colab": {
          "base_uri": "https://localhost:8080/"
        },
        "id": "86JdvwcBwvGY",
        "outputId": "56469af2-4e03-4f5e-944b-05a37cd7cfdc"
      },
      "execution_count": 5,
      "outputs": [
        {
          "output_type": "stream",
          "name": "stdout",
          "text": [
            "tensor([0.1455, 0.2278, 0.2249, 0.1285, 0.1077, 0.1656])\n",
            "tensor(1.0000)\n"
          ]
        }
      ]
    },
    {
      "cell_type": "markdown",
      "source": [
        "why soft max??\n",
        "\n",
        "for 1,2,3,400\n",
        "\n",
        "i want 400's value to be very clode to 1\n",
        "\n",
        "\n",
        "1/406 >> e^1/(e^1+e^2+e^3+e^400)\n",
        "\n"
      ],
      "metadata": {
        "id": "NzErkPMtztNj"
      }
    },
    {
      "cell_type": "code",
      "source": [
        "def naive_soft_max(x):\n",
        "  return torch.exp(x)/torch.exp(x).sum(dim=-1)\n",
        "\n",
        "normalized2=naive_soft_max(attention_scores)\n",
        "normalized2"
      ],
      "metadata": {
        "colab": {
          "base_uri": "https://localhost:8080/"
        },
        "id": "ncVOEmefyxYK",
        "outputId": "726abebf-4af7-41f0-9dfd-0ca489aa4fa4"
      },
      "execution_count": 6,
      "outputs": [
        {
          "output_type": "execute_result",
          "data": {
            "text/plain": [
              "tensor([0.1385, 0.2379, 0.2333, 0.1240, 0.1082, 0.1581])"
            ]
          },
          "metadata": {},
          "execution_count": 6
        }
      ]
    },
    {
      "cell_type": "markdown",
      "source": [
        "Why use torch soft max\n",
        "\n",
        "\n",
        "e^(x-max)/(summation)\n",
        "\n",
        "it prevents overflow (for large values) and underflow (for small values)\n",
        "\n",
        "it is optimized too."
      ],
      "metadata": {
        "id": "FLnTkLZT1PXn"
      }
    },
    {
      "cell_type": "code",
      "source": [
        "normalized3 = torch.softmax(attention_scores,dim=0)\n",
        "normalized3"
      ],
      "metadata": {
        "colab": {
          "base_uri": "https://localhost:8080/"
        },
        "id": "XpQAXmCa0Z0T",
        "outputId": "63503842-bc5b-4da5-febf-bc8a932d3ac5"
      },
      "execution_count": 7,
      "outputs": [
        {
          "output_type": "execute_result",
          "data": {
            "text/plain": [
              "tensor([0.1385, 0.2379, 0.2333, 0.1240, 0.1082, 0.1581])"
            ]
          },
          "metadata": {},
          "execution_count": 7
        }
      ]
    },
    {
      "cell_type": "code",
      "source": [
        "0.1385*torch.tensor([0.43,0.15,0.89])"
      ],
      "metadata": {
        "colab": {
          "base_uri": "https://localhost:8080/"
        },
        "id": "dxcmwD0c3SLh",
        "outputId": "b15461f3-7a60-47d8-94f2-e85777eaea90"
      },
      "execution_count": 8,
      "outputs": [
        {
          "output_type": "execute_result",
          "data": {
            "text/plain": [
              "tensor([0.0596, 0.0208, 0.1233])"
            ]
          },
          "metadata": {},
          "execution_count": 8
        }
      ]
    },
    {
      "cell_type": "code",
      "source": [
        "context_vector2= torch.zeros(inputs.shape[1])\n",
        "for i, x_i in enumerate(inputs):\n",
        "  context_vector2+= normalized3[i]*x_i"
      ],
      "metadata": {
        "id": "DipW1pT62DD9"
      },
      "execution_count": 9,
      "outputs": []
    },
    {
      "cell_type": "code",
      "source": [
        "context_vector2"
      ],
      "metadata": {
        "colab": {
          "base_uri": "https://localhost:8080/"
        },
        "id": "uscIcM9q2phd",
        "outputId": "ae13de44-ac9f-42b0-c246-4a2156955e0b"
      },
      "execution_count": 10,
      "outputs": [
        {
          "output_type": "execute_result",
          "data": {
            "text/plain": [
              "tensor([0.4419, 0.6515, 0.5683])"
            ]
          },
          "metadata": {},
          "execution_count": 10
        }
      ]
    },
    {
      "cell_type": "code",
      "source": [
        "attention_scores=torch.empty(inputs.shape[0],inputs.shape[0])"
      ],
      "metadata": {
        "id": "4yGM5j7x3kyR"
      },
      "execution_count": 11,
      "outputs": []
    },
    {
      "cell_type": "code",
      "source": [
        "for i in  range(0,inputs.shape[0]):\n",
        "  for j in  range(0,inputs.shape[0]):\n",
        "    attention_scores[i,j] = torch.dot(inputs[i],inputs[j])\n",
        "attention_scores"
      ],
      "metadata": {
        "colab": {
          "base_uri": "https://localhost:8080/"
        },
        "id": "8LS6UKnE4XtB",
        "outputId": "bef3f18c-865f-4318-9873-1af6e6f6adcf"
      },
      "execution_count": 12,
      "outputs": [
        {
          "output_type": "execute_result",
          "data": {
            "text/plain": [
              "tensor([[0.9995, 0.9544, 0.9422, 0.4753, 0.4576, 0.6310],\n",
              "        [0.9544, 1.4950, 1.4754, 0.8434, 0.7070, 1.0865],\n",
              "        [0.9422, 1.4754, 1.4570, 0.8296, 0.7154, 1.0605],\n",
              "        [0.4753, 0.8434, 0.8296, 0.4937, 0.3474, 0.6565],\n",
              "        [0.4576, 0.7070, 0.7154, 0.3474, 0.6654, 0.2935],\n",
              "        [0.6310, 1.0865, 1.0605, 0.6565, 0.2935, 0.9450]])"
            ]
          },
          "metadata": {},
          "execution_count": 12
        }
      ]
    },
    {
      "cell_type": "code",
      "source": [
        "efficient_attention_scores = inputs @ inputs.T\n",
        "efficient_attention_scores"
      ],
      "metadata": {
        "colab": {
          "base_uri": "https://localhost:8080/"
        },
        "id": "W2XxUJK25SsN",
        "outputId": "a7344235-a4bf-481f-8dcd-7689230fc5e9"
      },
      "execution_count": 13,
      "outputs": [
        {
          "output_type": "execute_result",
          "data": {
            "text/plain": [
              "tensor([[0.9995, 0.9544, 0.9422, 0.4753, 0.4576, 0.6310],\n",
              "        [0.9544, 1.4950, 1.4754, 0.8434, 0.7070, 1.0865],\n",
              "        [0.9422, 1.4754, 1.4570, 0.8296, 0.7154, 1.0605],\n",
              "        [0.4753, 0.8434, 0.8296, 0.4937, 0.3474, 0.6565],\n",
              "        [0.4576, 0.7070, 0.7154, 0.3474, 0.6654, 0.2935],\n",
              "        [0.6310, 1.0865, 1.0605, 0.6565, 0.2935, 0.9450]])"
            ]
          },
          "metadata": {},
          "execution_count": 13
        }
      ]
    },
    {
      "cell_type": "code",
      "source": [
        "efficient_attention_weights = torch.softmax(efficient_attention_scores,dim=-1)\n",
        "efficient_attention_weights"
      ],
      "metadata": {
        "colab": {
          "base_uri": "https://localhost:8080/"
        },
        "id": "6EwE735C5lFK",
        "outputId": "6a41d3b9-0d4d-48a6-9822-f81b09118aaa"
      },
      "execution_count": 14,
      "outputs": [
        {
          "output_type": "execute_result",
          "data": {
            "text/plain": [
              "tensor([[0.2098, 0.2006, 0.1981, 0.1242, 0.1220, 0.1452],\n",
              "        [0.1385, 0.2379, 0.2333, 0.1240, 0.1082, 0.1581],\n",
              "        [0.1390, 0.2369, 0.2326, 0.1242, 0.1108, 0.1565],\n",
              "        [0.1435, 0.2074, 0.2046, 0.1462, 0.1263, 0.1720],\n",
              "        [0.1526, 0.1958, 0.1975, 0.1367, 0.1879, 0.1295],\n",
              "        [0.1385, 0.2184, 0.2128, 0.1420, 0.0988, 0.1896]])"
            ]
          },
          "metadata": {},
          "execution_count": 14
        }
      ]
    },
    {
      "cell_type": "code",
      "source": [
        "efficient_attention_weights.sum(dim=-1)"
      ],
      "metadata": {
        "colab": {
          "base_uri": "https://localhost:8080/"
        },
        "id": "DnRhUsjv6EtL",
        "outputId": "720cf31e-405d-4ef5-844c-575ef4486fde"
      },
      "execution_count": 15,
      "outputs": [
        {
          "output_type": "execute_result",
          "data": {
            "text/plain": [
              "tensor([1.0000, 1.0000, 1.0000, 1.0000, 1.0000, 1.0000])"
            ]
          },
          "metadata": {},
          "execution_count": 15
        }
      ]
    },
    {
      "cell_type": "code",
      "source": [
        "context_vectors = efficient_attention_weights @ inputs\n",
        "context_vectors"
      ],
      "metadata": {
        "colab": {
          "base_uri": "https://localhost:8080/"
        },
        "id": "WnTDZdAb6hPf",
        "outputId": "e3af0bf9-e9bf-413a-e987-1ced3b27ad8b"
      },
      "execution_count": 16,
      "outputs": [
        {
          "output_type": "execute_result",
          "data": {
            "text/plain": [
              "tensor([[0.4421, 0.5931, 0.5790],\n",
              "        [0.4419, 0.6515, 0.5683],\n",
              "        [0.4431, 0.6496, 0.5671],\n",
              "        [0.4304, 0.6298, 0.5510],\n",
              "        [0.4671, 0.5910, 0.5266],\n",
              "        [0.4177, 0.6503, 0.5645]])"
            ]
          },
          "metadata": {},
          "execution_count": 16
        }
      ]
    },
    {
      "cell_type": "markdown",
      "source": [
        "SELF ATTENTION MECHANISM (Scaled dot product )"
      ],
      "metadata": {
        "id": "lXJ4bCwdW-iW"
      }
    },
    {
      "cell_type": "code",
      "source": [
        "inputs = torch.tensor([\n",
        "    [0.43,0.15,0.89], #your\n",
        "    [0.55,0.87,0.66], #journey\n",
        "    [0.57,0.85,0.64], #starts\n",
        "    [0.22,0.58,0.33], #with\n",
        "    [0.77,0.25,0.10], #one\n",
        "    [0.05,0.80,0.55] #step\n",
        "])"
      ],
      "metadata": {
        "id": "ahyYg-PVYVuj"
      },
      "execution_count": 17,
      "outputs": []
    },
    {
      "cell_type": "code",
      "source": [
        "x_2 = inputs[1]\n",
        "din = x_2.shape[0]\n",
        "dout = 2"
      ],
      "metadata": {
        "id": "aPyEzCG0Y3De"
      },
      "execution_count": 18,
      "outputs": []
    },
    {
      "cell_type": "code",
      "source": [
        "torch.manual_seed(143)\n",
        "W_query = torch.nn.Parameter(torch.rand(din, dout), requires_grad=False)\n",
        "W_key = torch.nn.Parameter(torch.rand(din, dout), requires_grad=False)\n",
        "W_value = torch.nn.Parameter(torch.rand(din, dout), requires_grad=False)"
      ],
      "metadata": {
        "id": "bZo1ken3ZIBx"
      },
      "execution_count": 19,
      "outputs": []
    },
    {
      "cell_type": "code",
      "source": [
        "print(W_query)"
      ],
      "metadata": {
        "colab": {
          "base_uri": "https://localhost:8080/"
        },
        "id": "uwcxvboKZj3_",
        "outputId": "5841b8e6-9283-4c54-ad7a-dd950cc000a4"
      },
      "execution_count": 20,
      "outputs": [
        {
          "output_type": "stream",
          "name": "stdout",
          "text": [
            "Parameter containing:\n",
            "tensor([[0.8653, 0.0099],\n",
            "        [0.0284, 0.4898],\n",
            "        [0.8311, 0.6590]])\n"
          ]
        }
      ]
    },
    {
      "cell_type": "code",
      "source": [
        "print(W_key)"
      ],
      "metadata": {
        "colab": {
          "base_uri": "https://localhost:8080/"
        },
        "id": "jxktX962aU5u",
        "outputId": "a6cc4e79-ec88-4961-e42b-7b77e80d6774"
      },
      "execution_count": 21,
      "outputs": [
        {
          "output_type": "stream",
          "name": "stdout",
          "text": [
            "Parameter containing:\n",
            "tensor([[0.5281, 0.7090],\n",
            "        [0.4898, 0.9040],\n",
            "        [0.6079, 0.2030]])\n"
          ]
        }
      ]
    },
    {
      "cell_type": "code",
      "source": [
        "print(W_value)"
      ],
      "metadata": {
        "colab": {
          "base_uri": "https://localhost:8080/"
        },
        "id": "Ic34aeSOaloe",
        "outputId": "58f4956c-db0e-4ac8-ef15-34a955cce484"
      },
      "execution_count": 22,
      "outputs": [
        {
          "output_type": "stream",
          "name": "stdout",
          "text": [
            "Parameter containing:\n",
            "tensor([[0.4850, 0.3860],\n",
            "        [0.2487, 0.9812],\n",
            "        [0.0049, 0.2948]])\n"
          ]
        }
      ]
    },
    {
      "cell_type": "code",
      "source": [
        "query_2 = x_2 @ W_query\n",
        "key_2 = x_2 @ W_key\n",
        "value_2 = x_2 @ W_value\n",
        "print(query_2)"
      ],
      "metadata": {
        "colab": {
          "base_uri": "https://localhost:8080/"
        },
        "id": "OepBvAisanMS",
        "outputId": "83db204e-c2b3-419a-8df6-c2b5d8f0363c"
      },
      "execution_count": 23,
      "outputs": [
        {
          "output_type": "stream",
          "name": "stdout",
          "text": [
            "tensor([1.0491, 0.8665])\n"
          ]
        }
      ]
    },
    {
      "cell_type": "code",
      "source": [
        "print(query_2@key_2.T)"
      ],
      "metadata": {
        "colab": {
          "base_uri": "https://localhost:8080/"
        },
        "id": "FYzGLON-deFB",
        "outputId": "8b97544d-2f7b-4a67-9a59-4420709f6b7e"
      },
      "execution_count": 24,
      "outputs": [
        {
          "output_type": "stream",
          "name": "stdout",
          "text": [
            "tensor(2.3082)\n"
          ]
        },
        {
          "output_type": "stream",
          "name": "stderr",
          "text": [
            "<ipython-input-24-3aecdaaccea8>:1: UserWarning: The use of `x.T` on tensors of dimension other than 2 to reverse their shape is deprecated and it will throw an error in a future release. Consider `x.mT` to transpose batches of matrices or `x.permute(*torch.arange(x.ndim - 1, -1, -1))` to reverse the dimensions of a tensor. (Triggered internally at ../aten/src/ATen/native/TensorShape.cpp:3683.)\n",
            "  print(query_2@key_2.T)\n"
          ]
        }
      ]
    },
    {
      "cell_type": "code",
      "source": [
        "queries = inputs @ W_query\n",
        "keys = inputs @ W_key\n",
        "values = inputs @ W_value"
      ],
      "metadata": {
        "id": "MqmcYw3KbH_V"
      },
      "execution_count": 25,
      "outputs": []
    },
    {
      "cell_type": "code",
      "source": [
        "print(queries)\n",
        "print(keys)\n",
        "print(values)"
      ],
      "metadata": {
        "colab": {
          "base_uri": "https://localhost:8080/"
        },
        "id": "t8VvWzlYbhWa",
        "outputId": "2e8516f1-e16c-475d-ce15-da4a59be48a5"
      },
      "execution_count": 26,
      "outputs": [
        {
          "output_type": "stream",
          "name": "stdout",
          "text": [
            "tensor([[1.1160, 0.6643],\n",
            "        [1.0491, 0.8665],\n",
            "        [1.0492, 0.8437],\n",
            "        [0.4811, 0.5037],\n",
            "        [0.7565, 0.1960],\n",
            "        [0.5231, 0.7548]])\n",
            "tensor([[0.8416, 0.6212],\n",
            "        [1.1178, 1.3104],\n",
            "        [1.1064, 1.3025],\n",
            "        [0.6009, 0.7473],\n",
            "        [0.5899, 0.7922],\n",
            "        [0.7526, 0.8703]])\n",
            "tensor([[0.2502, 0.5755],\n",
            "        [0.4863, 1.2605],\n",
            "        [0.4909, 1.2427],\n",
            "        [0.2525, 0.7513],\n",
            "        [0.4361, 0.5720],\n",
            "        [0.2259, 0.9664]])\n"
          ]
        }
      ]
    },
    {
      "cell_type": "code",
      "source": [
        "attention_scores = queries @ keys.T\n",
        "attention_scores"
      ],
      "metadata": {
        "colab": {
          "base_uri": "https://localhost:8080/"
        },
        "id": "UBJfd7r_bjqA",
        "outputId": "07f7f430-d5f5-4dd1-9a91-cedd00ecebc1"
      },
      "execution_count": 27,
      "outputs": [
        {
          "output_type": "execute_result",
          "data": {
            "text/plain": [
              "tensor([[1.3518, 2.1179, 2.0999, 1.1670, 1.1846, 1.4180],\n",
              "        [1.4212, 2.3082, 2.2894, 1.2780, 1.3054, 1.5437],\n",
              "        [1.4071, 2.2785, 2.2599, 1.2610, 1.2874, 1.5240],\n",
              "        [0.7178, 1.1979, 1.1884, 0.6655, 0.6829, 0.8005],\n",
              "        [0.7584, 1.1024, 1.0922, 0.6010, 0.6015, 0.7399],\n",
              "        [0.9091, 1.5738, 1.5618, 0.8784, 0.9065, 1.0506]])"
            ]
          },
          "metadata": {},
          "execution_count": 27
        }
      ]
    },
    {
      "cell_type": "code",
      "source": [
        "scaled_attention_scores = attention_scores/(keys.shape[1])**0.5\n",
        "scaled_attention_scores"
      ],
      "metadata": {
        "colab": {
          "base_uri": "https://localhost:8080/"
        },
        "id": "-vijMEZzcpdz",
        "outputId": "3b5c2874-5a1b-499c-9e7d-97436dea1c31"
      },
      "execution_count": 28,
      "outputs": [
        {
          "output_type": "execute_result",
          "data": {
            "text/plain": [
              "tensor([[0.9559, 1.4976, 1.4849, 0.8252, 0.8376, 1.0027],\n",
              "        [1.0049, 1.6322, 1.6188, 0.9036, 0.9230, 1.0916],\n",
              "        [0.9950, 1.6112, 1.5980, 0.8917, 0.9103, 1.0776],\n",
              "        [0.5076, 0.8470, 0.8403, 0.4706, 0.4829, 0.5660],\n",
              "        [0.5363, 0.7795, 0.7723, 0.4250, 0.4253, 0.5232],\n",
              "        [0.6428, 1.1129, 1.1044, 0.6211, 0.6410, 0.7429]])"
            ]
          },
          "metadata": {},
          "execution_count": 28
        }
      ]
    },
    {
      "cell_type": "code",
      "source": [
        "attention_weights = torch.softmax(scaled_attention_scores,dim=-1)\n",
        "attention_weights"
      ],
      "metadata": {
        "colab": {
          "base_uri": "https://localhost:8080/"
        },
        "id": "AHFaMnp4e14e",
        "outputId": "51dec949-e7f7-42dc-d79b-96f853e1fdde"
      },
      "execution_count": 29,
      "outputs": [
        {
          "output_type": "execute_result",
          "data": {
            "text/plain": [
              "tensor([[0.1383, 0.2378, 0.2347, 0.1214, 0.1229, 0.1449],\n",
              "        [0.1310, 0.2452, 0.2420, 0.1183, 0.1207, 0.1428],\n",
              "        [0.1318, 0.2441, 0.2409, 0.1189, 0.1211, 0.1432],\n",
              "        [0.1471, 0.2065, 0.2052, 0.1418, 0.1435, 0.1559],\n",
              "        [0.1583, 0.2019, 0.2004, 0.1416, 0.1417, 0.1562],\n",
              "        [0.1376, 0.2201, 0.2183, 0.1346, 0.1373, 0.1521]])"
            ]
          },
          "metadata": {},
          "execution_count": 29
        }
      ]
    },
    {
      "cell_type": "code",
      "source": [
        "context_vectors= attention_weights @ values\n",
        "context_vectors"
      ],
      "metadata": {
        "colab": {
          "base_uri": "https://localhost:8080/"
        },
        "id": "DZfhk_90oUGP",
        "outputId": "67fc18ab-c830-46ef-c4ff-03604aa10c08"
      },
      "execution_count": 30,
      "outputs": [
        {
          "output_type": "execute_result",
          "data": {
            "text/plain": [
              "tensor([[0.3824, 0.9726],\n",
              "        [0.3856, 0.9811],\n",
              "        [0.3851, 0.9799],\n",
              "        [0.3716, 0.9393],\n",
              "        [0.3690, 0.9330],\n",
              "        [0.3769, 0.9546]])"
            ]
          },
          "metadata": {},
          "execution_count": 30
        }
      ]
    },
    {
      "cell_type": "code",
      "source": [
        "import torch.nn as nn\n",
        "\n",
        "class selfAttention_V1(nn.Module):\n",
        "\n",
        "  def __init__(self, din, dout):\n",
        "        super().__init__()\n",
        "        self.W_query = torch.nn.Parameter(torch.rand(din, dout))\n",
        "        self.W_key = torch.nn.Parameter(torch.rand(din, dout))\n",
        "        self.W_value = torch.nn.Parameter(torch.rand(din, dout))\n",
        "\n",
        "  def forward(self, x):\n",
        "        queries = x @ self.W_query\n",
        "        keys = x @ self.W_key\n",
        "        values = x @ self.W_value\n",
        "\n",
        "        attention_socres = queries @ keys.T\n",
        "        attention_weights = torch.softmax((attention_socres)/(keys.shape[1])**0.5,dim=-1)\n",
        "\n",
        "        context_vec = attention_weights @ values\n",
        "\n",
        "        return context_vec\n"
      ],
      "metadata": {
        "id": "PKUOzT3gfnUz"
      },
      "execution_count": 31,
      "outputs": []
    },
    {
      "cell_type": "code",
      "source": [
        "torch.manual_seed(143)\n",
        "sa_v1 = selfAttention_V1(din,dout)\n",
        "print(sa_v1.forward(inputs))"
      ],
      "metadata": {
        "colab": {
          "base_uri": "https://localhost:8080/"
        },
        "id": "t6NLk0e-lLuI",
        "outputId": "6900779c-84f4-4987-fcb1-93356c4c431d"
      },
      "execution_count": 32,
      "outputs": [
        {
          "output_type": "stream",
          "name": "stdout",
          "text": [
            "tensor([[0.3824, 0.9726],\n",
            "        [0.3856, 0.9811],\n",
            "        [0.3851, 0.9799],\n",
            "        [0.3716, 0.9393],\n",
            "        [0.3690, 0.9330],\n",
            "        [0.3769, 0.9546]], grad_fn=<MmBackward0>)\n"
          ]
        }
      ]
    },
    {
      "cell_type": "code",
      "source": [
        "class selfAttention_V2(nn.Module):\n",
        "\n",
        "  def __init__(self, din, dout, qkv_bias=False):\n",
        "        super().__init__()\n",
        "        self.W_query = nn.Linear(din,dout, bias=qkv_bias )\n",
        "        self.W_key = nn.Linear(din, dout, bias= qkv_bias)\n",
        "        self.W_value = nn.Linear(din, dout, bias=qkv_bias)\n",
        "\n",
        "  def forward(self, x):\n",
        "        queries = self.W_query(x)\n",
        "        keys = self.W_key(x)\n",
        "        values = self.W_value(x)\n",
        "\n",
        "        attention_socres = queries @ keys.T\n",
        "        attention_weights = torch.softmax((attention_socres)/(keys.shape[1])**0.5,dim=-1)\n",
        "\n",
        "        context_vec = attention_weights @ values\n",
        "\n",
        "        return context_vec\n"
      ],
      "metadata": {
        "id": "BJG-kqgJoRiX"
      },
      "execution_count": 33,
      "outputs": []
    },
    {
      "cell_type": "code",
      "source": [
        "torch.manual_seed(789)\n",
        "sa_v2 = selfAttention_V2(din,dout)\n",
        "print(sa_v2.forward(inputs))"
      ],
      "metadata": {
        "colab": {
          "base_uri": "https://localhost:8080/"
        },
        "id": "bxjhbujqp0FO",
        "outputId": "2acfb3d3-2d4b-4037-df35-fef06248f7ce"
      },
      "execution_count": 34,
      "outputs": [
        {
          "output_type": "stream",
          "name": "stdout",
          "text": [
            "tensor([[-0.0739,  0.0713],\n",
            "        [-0.0748,  0.0703],\n",
            "        [-0.0749,  0.0702],\n",
            "        [-0.0760,  0.0685],\n",
            "        [-0.0763,  0.0679],\n",
            "        [-0.0754,  0.0693]], grad_fn=<MmBackward0>)\n"
          ]
        }
      ]
    },
    {
      "cell_type": "code",
      "source": [],
      "metadata": {
        "id": "9HIMDpYtp241"
      },
      "execution_count": 34,
      "outputs": []
    },
    {
      "cell_type": "markdown",
      "source": [
        "Causual Attention\n",
        "\n",
        "Masked self attention"
      ],
      "metadata": {
        "id": "sTg4qBymLgD8"
      }
    },
    {
      "cell_type": "code",
      "source": [
        "din = inputs.shape[1]\n",
        "dout = 2\n",
        "sa_v2 = selfAttention_V2(din,dout)\n",
        "queries = sa_v2.W_query(inputs)\n",
        "keys =  sa_v2.W_key(inputs)\n",
        "values = sa_v2.W_value(inputs)\n",
        "attention_scores=queries @ keys.T\n",
        "attention_weights = torch.softmax(attention_scores/(keys.shape[1])**0.5,dim=-1)"
      ],
      "metadata": {
        "id": "56H3P5aaLmNv"
      },
      "execution_count": 35,
      "outputs": []
    },
    {
      "cell_type": "code",
      "source": [
        "context_length = attention_weights.shape[1]\n",
        "mask = torch.tril(torch.ones(context_length,context_length))\n",
        "masked_attention_weights = attention_weights*mask\n",
        "masked_attention_weights"
      ],
      "metadata": {
        "colab": {
          "base_uri": "https://localhost:8080/"
        },
        "id": "5ToOpRI1NoMv",
        "outputId": "3b22e8b5-a0b8-45f2-f6d3-68051bfe3f53"
      },
      "execution_count": 36,
      "outputs": [
        {
          "output_type": "execute_result",
          "data": {
            "text/plain": [
              "tensor([[0.1766, 0.0000, 0.0000, 0.0000, 0.0000, 0.0000],\n",
              "        [0.1772, 0.1720, 0.0000, 0.0000, 0.0000, 0.0000],\n",
              "        [0.1769, 0.1719, 0.1716, 0.0000, 0.0000, 0.0000],\n",
              "        [0.1725, 0.1696, 0.1695, 0.1618, 0.0000, 0.0000],\n",
              "        [0.1687, 0.1694, 0.1692, 0.1637, 0.1634, 0.0000],\n",
              "        [0.1758, 0.1704, 0.1702, 0.1598, 0.1615, 0.1623]],\n",
              "       grad_fn=<MulBackward0>)"
            ]
          },
          "metadata": {},
          "execution_count": 36
        }
      ]
    },
    {
      "cell_type": "code",
      "source": [
        "rows_sum = masked_attention_weights.sum(dim=1, keepdim=True)\n",
        "normalized_masked_attention_weights= masked_attention_weights/rows_sum\n",
        "normalized_masked_attention_weights"
      ],
      "metadata": {
        "colab": {
          "base_uri": "https://localhost:8080/"
        },
        "id": "8KH94wGQOJmd",
        "outputId": "6e2cb6d6-d353-4a67-cb6b-bc98e9b2ee00"
      },
      "execution_count": 37,
      "outputs": [
        {
          "output_type": "execute_result",
          "data": {
            "text/plain": [
              "tensor([[1.0000, 0.0000, 0.0000, 0.0000, 0.0000, 0.0000],\n",
              "        [0.5075, 0.4925, 0.0000, 0.0000, 0.0000, 0.0000],\n",
              "        [0.3399, 0.3303, 0.3298, 0.0000, 0.0000, 0.0000],\n",
              "        [0.2562, 0.2519, 0.2517, 0.2402, 0.0000, 0.0000],\n",
              "        [0.2021, 0.2030, 0.2028, 0.1962, 0.1959, 0.0000],\n",
              "        [0.1758, 0.1704, 0.1702, 0.1598, 0.1615, 0.1623]],\n",
              "       grad_fn=<DivBackward0>)"
            ]
          },
          "metadata": {},
          "execution_count": 37
        }
      ]
    },
    {
      "cell_type": "code",
      "source": [
        "din = inputs.shape[1]\n",
        "dout = 2\n",
        "sa_v2 = selfAttention_V2(din,dout)\n",
        "queries = sa_v2.W_query(inputs)\n",
        "keys =  sa_v2.W_key(inputs)\n",
        "values = sa_v2.W_value(inputs)\n",
        "attention_scores=queries @ keys.T"
      ],
      "metadata": {
        "id": "ncIfqrrjR9Mz"
      },
      "execution_count": 38,
      "outputs": []
    },
    {
      "cell_type": "code",
      "source": [
        "mask = torch.triu(torch.ones(context_length,context_length),diagonal=1)\n",
        "masked = attention_scores.masked_fill(mask.bool(), -torch.inf)\n",
        "masked"
      ],
      "metadata": {
        "colab": {
          "base_uri": "https://localhost:8080/"
        },
        "id": "hjJMFgFJQng_",
        "outputId": "cfdcccca-9704-4a06-a8bf-373380aaa83d"
      },
      "execution_count": 39,
      "outputs": [
        {
          "output_type": "execute_result",
          "data": {
            "text/plain": [
              "tensor([[-0.0559,    -inf,    -inf,    -inf,    -inf,    -inf],\n",
              "        [-0.1436, -0.1670,    -inf,    -inf,    -inf,    -inf],\n",
              "        [-0.1324, -0.1541, -0.1474,    -inf,    -inf,    -inf],\n",
              "        [-0.1134, -0.1314, -0.1263, -0.0793,    -inf,    -inf],\n",
              "        [ 0.1071,  0.1220,  0.1191,  0.0679,  0.0330,    -inf],\n",
              "        [-0.2257, -0.2607, -0.2512, -0.1550, -0.0094, -0.2561]],\n",
              "       grad_fn=<MaskedFillBackward0>)"
            ]
          },
          "metadata": {},
          "execution_count": 39
        }
      ]
    },
    {
      "cell_type": "code",
      "source": [
        "attention_weights = torch.softmax(masked/(keys.shape[1])**0.5,dim=-1)\n",
        "attention_weights"
      ],
      "metadata": {
        "colab": {
          "base_uri": "https://localhost:8080/"
        },
        "id": "fwnOcqcAR-wA",
        "outputId": "ff2914f6-bab2-4edd-ebfd-89c1c2bc91d0"
      },
      "execution_count": 40,
      "outputs": [
        {
          "output_type": "execute_result",
          "data": {
            "text/plain": [
              "tensor([[1.0000, 0.0000, 0.0000, 0.0000, 0.0000, 0.0000],\n",
              "        [0.5041, 0.4959, 0.0000, 0.0000, 0.0000, 0.0000],\n",
              "        [0.3362, 0.3311, 0.3327, 0.0000, 0.0000, 0.0000],\n",
              "        [0.2498, 0.2467, 0.2476, 0.2559, 0.0000, 0.0000],\n",
              "        [0.2024, 0.2045, 0.2041, 0.1969, 0.1921, 0.0000],\n",
              "        [0.1625, 0.1585, 0.1596, 0.1709, 0.1894, 0.1591]],\n",
              "       grad_fn=<SoftmaxBackward0>)"
            ]
          },
          "metadata": {},
          "execution_count": 40
        }
      ]
    },
    {
      "cell_type": "code",
      "source": [
        "batch = torch.stack((inputs,inputs),dim=0)\n",
        "batch"
      ],
      "metadata": {
        "colab": {
          "base_uri": "https://localhost:8080/"
        },
        "id": "Gxp9eTFtSeR0",
        "outputId": "8cae504b-7189-45ed-c1e2-de6ba3ea479d"
      },
      "execution_count": 41,
      "outputs": [
        {
          "output_type": "execute_result",
          "data": {
            "text/plain": [
              "tensor([[[0.4300, 0.1500, 0.8900],\n",
              "         [0.5500, 0.8700, 0.6600],\n",
              "         [0.5700, 0.8500, 0.6400],\n",
              "         [0.2200, 0.5800, 0.3300],\n",
              "         [0.7700, 0.2500, 0.1000],\n",
              "         [0.0500, 0.8000, 0.5500]],\n",
              "\n",
              "        [[0.4300, 0.1500, 0.8900],\n",
              "         [0.5500, 0.8700, 0.6600],\n",
              "         [0.5700, 0.8500, 0.6400],\n",
              "         [0.2200, 0.5800, 0.3300],\n",
              "         [0.7700, 0.2500, 0.1000],\n",
              "         [0.0500, 0.8000, 0.5500]]])"
            ]
          },
          "metadata": {},
          "execution_count": 41
        }
      ]
    },
    {
      "cell_type": "code",
      "source": [
        "batch.shape"
      ],
      "metadata": {
        "colab": {
          "base_uri": "https://localhost:8080/"
        },
        "id": "MECW611tVjpy",
        "outputId": "9fdacadc-6aa9-45f0-d262-5c1c129592ae"
      },
      "execution_count": 42,
      "outputs": [
        {
          "output_type": "execute_result",
          "data": {
            "text/plain": [
              "torch.Size([2, 6, 3])"
            ]
          },
          "metadata": {},
          "execution_count": 42
        }
      ]
    },
    {
      "cell_type": "code",
      "source": [
        "class causualAttention_V1(nn.Module):\n",
        "\n",
        "  def __init__(self, din, dout, context_length, dropout, qkv_bias=False):\n",
        "        super().__init__()\n",
        "        self.W_query = nn.Linear(din,dout, bias=qkv_bias )\n",
        "        self.W_key = nn.Linear(din, dout, bias= qkv_bias)\n",
        "        self.W_value = nn.Linear(din, dout, bias=qkv_bias)\n",
        "        self.dropout = nn.Dropout(dropout)\n",
        "        self.register_buffer('mask',torch.triu(torch.ones(context_length,context_length),diagonal=1))\n",
        "\n",
        "  def forward(self, x):\n",
        "        batch, num_tokens, din= x.shape\n",
        "        queries = self.W_query(x)\n",
        "        keys = self.W_key(x)\n",
        "        values = self.W_value(x)\n",
        "\n",
        "        attention_socres = queries @ keys.transpose(1,2)\n",
        "\n",
        "        attention_scores.masked_fill(self.mask.bool()[:num_tokens,:num_tokens], -torch.inf)\n",
        "\n",
        "        attention_weights = torch.softmax((attention_scores)/(keys.shape[2])**0.5,dim=-1)\n",
        "\n",
        "        attention_weights = self.dropout(attention_weights)\n",
        "\n",
        "        context_vec = attention_weights @ values\n",
        "\n",
        "        return context_vec\n"
      ],
      "metadata": {
        "id": "Er3sY-0HWCUF"
      },
      "execution_count": 43,
      "outputs": []
    },
    {
      "cell_type": "code",
      "source": [
        "torch.manual_seed(123)\n",
        "context_length = batch.shape[1]\n",
        "ca = causualAttention_V1(din,dout,context_length,0.5)\n",
        "context_vec_matrix = ca.forward(batch)\n",
        "context_vec_matrix"
      ],
      "metadata": {
        "colab": {
          "base_uri": "https://localhost:8080/"
        },
        "id": "A_zygW-0bufF",
        "outputId": "be548ce3-bc33-46b9-db2e-a82f854026f5"
      },
      "execution_count": 44,
      "outputs": [
        {
          "output_type": "execute_result",
          "data": {
            "text/plain": [
              "tensor([[[-0.5006, -0.1663],\n",
              "         [-0.5575, -0.0497],\n",
              "         [-0.5566, -0.0488],\n",
              "         [-0.7670, -0.2376],\n",
              "         [-0.1413, -0.0503],\n",
              "         [-0.6915, -0.0984]],\n",
              "\n",
              "        [[-0.5006, -0.1663],\n",
              "         [-0.5575, -0.0497],\n",
              "         [-0.5566, -0.0488],\n",
              "         [-0.7670, -0.2376],\n",
              "         [-0.1413, -0.0503],\n",
              "         [-0.6915, -0.0984]]], grad_fn=<CloneBackward0>)"
            ]
          },
          "metadata": {},
          "execution_count": 44
        }
      ]
    },
    {
      "cell_type": "code",
      "source": [],
      "metadata": {
        "id": "tyNDNkabcEJ6"
      },
      "execution_count": 44,
      "outputs": []
    },
    {
      "cell_type": "code",
      "source": [],
      "metadata": {
        "id": "Ci5I1F8VJMu6"
      },
      "execution_count": null,
      "outputs": []
    },
    {
      "cell_type": "code",
      "source": [],
      "metadata": {
        "id": "GQB-l9DxJOKl"
      },
      "execution_count": null,
      "outputs": []
    },
    {
      "cell_type": "markdown",
      "source": [
        "Multi head attention"
      ],
      "metadata": {
        "id": "6C2ZrtVWJOw5"
      }
    },
    {
      "cell_type": "code",
      "source": [
        "class multiheadattention(nn.Module):\n",
        "\n",
        "  def __init__(self,din, dout, context_length, dropout, num_heads, qkv_bias=False):\n",
        "\n",
        "    super().__init__()\n",
        "    assert(dout%num_heads==0),\\\n",
        "        \"dout must be divisible by num_heads\"\n",
        "    self.W_query = nn.Linear(din, dout, bias=qkv_bias)\n",
        "    self.W_key = nn.Linear(din, dout, bias=qkv_bias)\n",
        "    self.W_value = nn.Linear(din, dout, bias=qkv_bias)\n",
        "    self.dropout = nn.Dropout(dropout)\n",
        "    self.num_heads = num_heads\n",
        "    self.head_dim = dout//num_heads\n",
        "    self.register_buffer('mask',torch.triu(torch.ones(context_length,context_length),diagonal=1))\n",
        "\n",
        "  def forward(self,x):\n",
        "      b, num_tokens, dout = x.shape\n",
        "\n",
        "      queries = self.W_query(x)\n",
        "      keys = self.W_key(x)\n",
        "      values = self.W_value(x)\n",
        "\n",
        "      queries = queries.view(b, num_tokens, self.num_heads, self.head_dim)\n",
        "      keys = keys.view(b, num_tokens, self.num_heads, self.head_dim)\n",
        "      values = values.view(b, num_tokens, self.num_heads, self.head_dim)\n",
        "\n",
        "      queries = queries.transpose(1,2)\n",
        "      keys = keys.transpose(1,2)\n",
        "      values = values.transpose(1,2)\n",
        "\n",
        "      attention_scores = queries @ keys.transpose(2,3)\n",
        "      attention_scores.masked_fill(self.mask.bool()[:num_tokens, :num_tokens],-torch.inf)\n",
        "      attention_weights = torch.softmax(attention_scores/(keys.shape[-1])**0.5, dim=-1)\n",
        "      attention_weights = self.dropout(attention_weights)\n",
        "      context_vectors = (attention_weights @ values).transpose(1,2)\n",
        "      context_vectors = context_vectors.contiguous().view(b,num_tokens,dout)\n",
        "      return context_vectors\n"
      ],
      "metadata": {
        "id": "uMVyhTTxJTfD"
      },
      "execution_count": 61,
      "outputs": []
    },
    {
      "cell_type": "code",
      "source": [
        "torch.manual_seed(123)\n",
        "inputs = torch.tensor([[0.43,0.15,0.89, 0.55,0.87,0.66],\n",
        "    [0.57,0.85,0.64, 0.22,0.58,0.33],\n",
        "    [0.77,0.25,0.10, 0.05,0.80,0.55]])\n",
        "\n",
        "batch = torch.stack((inputs,inputs))\n",
        "dout = 6\n",
        "b, context_length, din = batch.shape\n",
        "mha = multiheadattention(din, dout, context_length, 0.0, num_heads=2)\n",
        "context_vectors=mha.forward(batch)\n",
        "print(context_vectors)\n",
        "print(context_vectors.shape)"
      ],
      "metadata": {
        "colab": {
          "base_uri": "https://localhost:8080/"
        },
        "id": "-ijFRjKfY_09",
        "outputId": "0186e9c2-aaf9-4ca7-8358-7a2f0a55092a"
      },
      "execution_count": 66,
      "outputs": [
        {
          "output_type": "stream",
          "name": "stdout",
          "text": [
            "tensor([[[-0.2899,  0.2503,  0.0068,  0.0055,  0.5636,  0.0698],\n",
            "         [-0.2886,  0.2483,  0.0094,  0.0062,  0.5648,  0.0684],\n",
            "         [-0.2898,  0.2501,  0.0070,  0.0092,  0.5663,  0.0665]],\n",
            "\n",
            "        [[-0.2899,  0.2503,  0.0068,  0.0055,  0.5636,  0.0698],\n",
            "         [-0.2886,  0.2483,  0.0094,  0.0062,  0.5648,  0.0684],\n",
            "         [-0.2898,  0.2501,  0.0070,  0.0092,  0.5663,  0.0665]]],\n",
            "       grad_fn=<ViewBackward0>)\n",
            "torch.Size([2, 3, 6])\n"
          ]
        }
      ]
    },
    {
      "cell_type": "code",
      "source": [],
      "metadata": {
        "id": "J-7kFhG2aMyQ"
      },
      "execution_count": null,
      "outputs": []
    }
  ]
}